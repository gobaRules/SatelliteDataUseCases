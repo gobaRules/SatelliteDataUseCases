{
 "cells": [
  {
   "cell_type": "markdown",
   "metadata": {},
   "source": [
    "by Nicolas Jakob Wagener\n",
    "\n",
    "# Introduction\n",
    "\n",
    "Air pollution is a serious problem worldwide - especially in large urban areas. According to the World Health Organization (WHO) some 4.2 million premature deaths each year are linked to air pollution. And according to data the European Environment Agency published, around 90% of city dwellers in Europe are subjected to air pollutants at levels deemed harmful.\n",
    "There are a number of pollutants which are linked to human activity - in particular the burning of fossil fuels. The most harmful one in terms of human health impact is fine particulate matter or PM<sub>2.5</sub>. Other harmful pollutants include carbon monoxide (CO) and nitrogen dioxide (NO<sub>2</sub>), both of which can originate from vehicle traffic but also from other, natural sources. Ozone (O<sub>3</sub>) is another harmful pollutant which forms as a result of the reaction of products created by the burning of fossil fuels with the sun’s UV radiation and can cause serious respiratory illness. \n",
    "While a large part of harmful pollutants are the direct or indirect result of human activity, there are also a number of natural emission sources such as sulphur dioxide (SO<sub>2</sub>) released by volcanic eruptions, carbon monoxide released by wildfires or windblown dust. Furthermore, pollutants can be carried over large distances by global wind patterns such that there is not always a connection between air quality and local anthropogenic emissions. Observing and understanding the global pollution patterns is therefore vital in understanding causes and sources of harmful pollutants and ultimately developing strategies to tackle air pollution.\n"
   ]
  },
  {
   "cell_type": "markdown",
   "metadata": {},
   "source": [
    "# Sentinel-5P\n",
    "\n",
    "This is where satellites come in. Satellite-based sensors allow us to retrieve information over large areas and even globally. These measurements (which have a high spatial coverage but are also rather coarse) can then be integrated with local measurements from ground stations to get a full picture of air pollution patterns. For this purpose ESA, in October 2017, launched Sentinel-5P, an earth-observation satellite charged with detecting different types of trace gases and pollutants. The satellite is mapping atmospheric gases for the whole world on a daily basis with a resolution of 7 Km x 3.5 Km per pixel using its state-of-the-art Tropomi instrument. While this may sound like a low resolution, it is actually much higher than any of Sentinel-5P’s predecessors. It thus allows us to monitor air pollution over individual cities, which was previously not possible. What is more, Sentinel-5P is also monitoring sulphur dioxide and carbon monoxide and can hence be used to monitor volcanic eruptions and wildfires. \n",
    "\n",
    "The idea behind satellite-based atmospheric observations is that each gas and particle - due to its unique shape and structure on a molecular level - interacts differently with the electromagnetic radiation emitted by the sun. By observing the visible, near-infrared and shortwave infrared range of the electromagnetic spectrum, Tropomi can detect the unique electromagnetic ‘fingerprints’ of a great number of gases. This means in effect that a wide range of atmospheric gases such as nitrogen dioxide, ozone, formaldehyde, sulphur dioxide, methane and carbon monoxide can be mapped in greater detail than ever before. Sentinel-5P is therefore providing new insights into global pollution patterns. For more information on Sentinel-5P, you can visit <a href=\"https://www.esa.int/Our_Activities/Observing_the_Earth/Copernicus/Sentinel-5P\">ESA’s website dedicated to the topic</a> and <a href=\"http://www.tropomi.eu/data-products/level-2-products\">this website</a> dedicated to the Tropomi instrument. \n"
   ]
  },
  {
   "cell_type": "markdown",
   "metadata": {},
   "source": [
    "# Air Pollution in Urban Areas\n",
    "\n",
    "This is how part of Europe looks as seen by Sentinel-5P’s NO<sub>2</sub> channel:\n",
    "<table>\n",
    "<tr>\n",
    "<td>\n",
    "<a href=\"https://apps.sentinel-hub.com/eo-browser/?lat=48.34&lng=4.50&zoom=6&time=2018-08-06&preset=NO2_VISUALIZED&datasource=Sentinel-5P%20NO2\" target=\"_blank\">\n",
    " <img src=\"images/2018-08-06, Sentinel-5P NO2, Sentinel 5P L2 - Nitrogen Dioxide.jpg\" alt=\"Drawing\" style=\"width: 1000px;\"/>\n",
    "</a>\n",
    "</td>\n",
    "</tr>\n",
    "<tr>\n",
    "<td style=\"text-align:left\"> <b>NO<sub>2</sub> concentration in Europe </b> as acquired by Sentinel 5P on 6.8.2018 (<a href=\"https://apps.sentinel-hub.com/eo-browser/?lat=48.34&lng=4.50&zoom=6&time=2018-08-06&preset=NO2_VISUALIZED&datasource=Sentinel-5P%20NO2\">EO Browser link</a>). </td>\n",
    "</tr>\n",
    "</table>\n",
    "\n",
    "What you are seeing is the NO<sub>2</sub> concentration over part of Europe. Blue represents a low NO<sub>2</sub> concentration, while red tones are indicating high levels of NO<sub>2</sub>. We can see a high concentration over large urban agglomerations such as the Netherlands, Belgium and London in United Kingdom, as well as over Northern Italy. It is interesting that in particular large industrial cities seem to be affected. This indicates that a large part of the NO<sub>2</sub> is coming from the manufacturing industry and vehicle traffic.\n"
   ]
  },
  {
   "cell_type": "markdown",
   "metadata": {},
   "source": [
    "# Conclusion\n",
    "We have seen, how satellite images can be used to monitor air pollution. This information is critical for public health officials and policy makers to guide their decisions on environmental policies. It is also important for the public to know, how air pollution affects them. Finally, scientists have a great interest in the data collected by Sentinel-5P because it allows them to gain new insights into global pollution patterns and their role in our climate system.\n",
    "There are several caveats to keep in mind when working with satellite data: For one, clouds and other phenomena can influence the quality of remote sensing data and render it useless (as you have seen, many image tiles are empty because no data could be retrieved). While the resolution has greatly improved over the last few years, it is still very coarse and while it allows us to monitor global patterns, we are dependent on ground-based measurements to get local data. Furthermore, Sentinel-5P measures the concentration of gases in the whole atmospheric column. Again, we would need ground based measurements to relate this data to the actual concentrations on the ground. Another thing to keep in mind is that Sentinel-5P maps the whole world on a daily basis. However, the concentration levels of different pollutants vary significantly throughout the day. A constant monitoring would be useful for many applications but is currently not possible using only satellite data. However, NASA, ESA and the Korean Meteorological Administration are planning a constellation of three geostationary satellites which will observe air pollution for most of the northern hemisphere on an hourly basis (see https://www.nasa.gov/feature/langley/the-future-of-monitoring-air-quality-from-space and https://earth.esa.int/web/guest/missions/esa-future-missions/sentinel-4). \n"
   ]
  },
  {
   "cell_type": "markdown",
   "metadata": {},
   "source": [
    "# Resources and further reading\n",
    "Resources you may want to use for your analysis include:\n",
    "- the <a href=\"https://www.eea.europa.eu/themes/air/air-quality-index\">EU Environmental Agency’s Air quality index <a>\n",
    "- the <a href=\"https://www.eea.europa.eu/themes/air/intro\">European Environment Agency’s website<a>\n",
    "- the <a href=\"https://atmosphere.copernicus.eu/\">Copernicus Atmosphere Monitoring Service<a>\n",
    "- the <a href=\"https://itunes.apple.com/us/app/climate-from-space/id1061553589?mt=8\">Climate Change Initiative’s Climate from Space App for tablets specifically the section about aerosols<a>\n",
    "- the <a href=\"http://www.who.int/airpollution/en/\">WHO’s website dedicated to air pollution<a>\n",
    "- the online <a href=\"https://www.futurelearn.com/courses/atmospheric-composition\">MOOC Monitoring Atmospheric Composition<a>\n"
   ]
  }
 ],
 "metadata": {
  "kernelspec": {
   "display_name": "Python 3",
   "language": "python",
   "name": "python3"
  },
  "language_info": {
   "codemirror_mode": {
    "name": "ipython",
    "version": 3
   },
   "file_extension": ".py",
   "mimetype": "text/x-python",
   "name": "python",
   "nbconvert_exporter": "python",
   "pygments_lexer": "ipython3",
   "version": "3.6.3"
  }
 },
 "nbformat": 4,
 "nbformat_minor": 2
}
